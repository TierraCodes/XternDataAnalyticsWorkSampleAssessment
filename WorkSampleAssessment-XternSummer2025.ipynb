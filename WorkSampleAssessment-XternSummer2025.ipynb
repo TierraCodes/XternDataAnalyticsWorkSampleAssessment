{
 "cells": [
  {
   "cell_type": "markdown",
   "id": "107a3ac7",
   "metadata": {},
   "source": [
    "# Xtern Work Sample Assessment - Data Science\n",
    "\n",
    "This is the Data Science work sample assessment for the Summer 2025 Xtern program"
   ]
  },
  {
   "cell_type": "code",
   "execution_count": 11,
   "id": "1b244cbe",
   "metadata": {
    "scrolled": true
   },
   "outputs": [],
   "source": [
    "import pandas as pd\n",
    "\n",
    "#importing Dataset\n",
    "df = pd.read_csv('2025-VeloCityX-Expanded-Fan-Engagement-Data.csv')"
   ]
  },
  {
   "cell_type": "code",
   "execution_count": 32,
   "id": "22cfbc65",
   "metadata": {},
   "outputs": [],
   "source": [
    "#renaming some columns\n",
    "df = df.rename(columns = {\"Real-Time Chat Activity (Messages Sent)\":\"Chat Messages Sent\", \"Sponsorship Interactions (Ad Clicks)\" : \"Number of Ad Clicks\"})"
   ]
  },
  {
   "cell_type": "code",
   "execution_count": 25,
   "id": "3f264e25",
   "metadata": {},
   "outputs": [],
   "source": [
    "#removing the U in front of every user ID\n",
    "df['User ID'] = df['User ID'].str.split(pat = 'U').str[1]"
   ]
  },
  {
   "cell_type": "code",
   "execution_count": 30,
   "id": "3c554a49",
   "metadata": {},
   "outputs": [],
   "source": [
    "#changing the 'User ID' column data type to an integer\n",
    "df['User ID'] = df['User ID'].astype('int')"
   ]
  },
  {
   "cell_type": "code",
   "execution_count": 37,
   "id": "90c6d958",
   "metadata": {},
   "outputs": [
    {
     "data": {
      "text/plain": [
       "User ID                          int32\n",
       "Fan Challenges Completed         int64\n",
       "Predictive Accuracy (%)          int64\n",
       "Virtual Merchandise Purchases    int64\n",
       "Number of Ad Clicks              int64\n",
       "Time on Live 360 (mins)          int64\n",
       "Chat Messages Sent               int64\n",
       "dtype: object"
      ]
     },
     "execution_count": 37,
     "metadata": {},
     "output_type": "execute_result"
    }
   ],
   "source": []
  },
  {
   "cell_type": "code",
   "execution_count": null,
   "id": "57c672aa",
   "metadata": {},
   "outputs": [],
   "source": []
  }
 ],
 "metadata": {
  "kernelspec": {
   "display_name": "Python 3 (ipykernel)",
   "language": "python",
   "name": "python3"
  },
  "language_info": {
   "codemirror_mode": {
    "name": "ipython",
    "version": 3
   },
   "file_extension": ".py",
   "mimetype": "text/x-python",
   "name": "python",
   "nbconvert_exporter": "python",
   "pygments_lexer": "ipython3",
   "version": "3.11.7"
  }
 },
 "nbformat": 4,
 "nbformat_minor": 5
}
